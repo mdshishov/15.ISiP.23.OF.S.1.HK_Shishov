{
 "cells": [
  {
   "cell_type": "markdown",
   "metadata": {},
   "source": [
    "### Типы данных str, int, float и методы строк"
   ]
  },
  {
   "cell_type": "markdown",
   "metadata": {},
   "source": [
    "1. Попросите пользователя ввести его имя через функцию `input()` и выведите приветствие с использованием f-строк."
   ]
  },
  {
   "cell_type": "code",
   "execution_count": 19,
   "metadata": {},
   "outputs": [
    {
     "name": "stdout",
     "output_type": "stream",
     "text": [
      "Hello, Mikhail!\n"
     ]
    }
   ],
   "source": [
    "user_name = input('Enter your name: ')\n",
    "print(f'Hello, {user_name}!')"
   ]
  },
  {
   "cell_type": "markdown",
   "metadata": {},
   "source": [
    "2. Создайте переменную типа `int` со значением 42 и преобразуйте её в строку. Выведите результат на экран <button class='citation-flag' data-index='2'>."
   ]
  },
  {
   "cell_type": "code",
   "execution_count": 20,
   "metadata": {},
   "outputs": [
    {
     "name": "stdout",
     "output_type": "stream",
     "text": [
      "Type of 42 is: <class 'str'>\n"
     ]
    }
   ],
   "source": [
    "value_int = 42\n",
    "value_str = str(42)\n",
    "print(f'Type of {value_str} is: {type(value_str)}')"
   ]
  },
  {
   "cell_type": "markdown",
   "metadata": {},
   "source": [
    "3. Запросите у пользователя два числа, сложите их и выведите результат с помощью функции `print()`. "
   ]
  },
  {
   "cell_type": "code",
   "execution_count": 21,
   "metadata": {},
   "outputs": [
    {
     "name": "stdout",
     "output_type": "stream",
     "text": [
      "2 + 3 = 5\n"
     ]
    }
   ],
   "source": [
    "a = int(input('Enter first number: '))\n",
    "b = int(input('Enter second number: '))\n",
    "print(f'{a} + {b} = {a + b}')"
   ]
  },
  {
   "cell_type": "markdown",
   "metadata": {},
   "source": [
    "4. Спросите у пользователя его возраст и проверьте, является ли он числом, используя метод `.isdigit()`."
   ]
  },
  {
   "cell_type": "code",
   "execution_count": 31,
   "metadata": {},
   "outputs": [
    {
     "name": "stdout",
     "output_type": "stream",
     "text": [
      "Age 25 is number: True\n"
     ]
    }
   ],
   "source": [
    "user_age = input('Enter your age: ')\n",
    "print(f'Age {user_age} is number: {user_age.isdigit()}')"
   ]
  },
  {
   "cell_type": "markdown",
   "metadata": {},
   "source": [
    "5. Напишите программу, которая принимает строку от пользователя и выводит её в верхнем регистре."
   ]
  },
  {
   "cell_type": "code",
   "execution_count": 32,
   "metadata": {},
   "outputs": [
    {
     "name": "stdout",
     "output_type": "stream",
     "text": [
      "CUSTOM STRING\n"
     ]
    }
   ],
   "source": [
    "custom_string = input('Enter any string: ')\n",
    "print(custom_string.upper())"
   ]
  },
  {
   "cell_type": "markdown",
   "metadata": {},
   "source": [
    "6. Дана строка \"hello world\". Используя метод `.split()`, разделите строку по пробелам и выведите получившийся список."
   ]
  },
  {
   "cell_type": "code",
   "execution_count": 24,
   "metadata": {},
   "outputs": [
    {
     "name": "stdout",
     "output_type": "stream",
     "text": [
      "['hello', 'world']\n"
     ]
    }
   ],
   "source": [
    "print('hello world'.split(' '))"
   ]
  },
  {
   "cell_type": "markdown",
   "metadata": {},
   "source": [
    "7. Дан текст. Определите количество букв 'a' в этом тексте с помощью метода `.count()`."
   ]
  },
  {
   "cell_type": "code",
   "execution_count": 30,
   "metadata": {},
   "outputs": [
    {
     "name": "stdout",
     "output_type": "stream",
     "text": [
      "Amount of 'a' is 7\n"
     ]
    }
   ],
   "source": [
    "custom_text = 'Lorem ipsum dolor sit amet, consectetur adipiscing elit, sed do eiusmod tempor incididunt ut labore et dolore magna aliqua.'\n",
    "print (f\"Amount of 'a' is {custom_text.count('a')}\")"
   ]
  },
  {
   "cell_type": "markdown",
   "metadata": {},
   "source": [
    "8. Попросите пользователя ввести предложение. Проверьте, начинается ли оно с буквы 'а', используя метод `.startswith()`."
   ]
  },
  {
   "cell_type": "code",
   "execution_count": 33,
   "metadata": {},
   "outputs": [
    {
     "name": "stdout",
     "output_type": "stream",
     "text": [
      "Sentence \"Lorem ipsum\" starts with 'a': False\n"
     ]
    }
   ],
   "source": [
    "sentence = input('Enter a sentence: ')\n",
    "print(f\"Sentence \\\"{sentence}\\\" starts with 'a': {sentence.startswith('a')}\")"
   ]
  },
  {
   "cell_type": "markdown",
   "metadata": {},
   "source": [
    "9. Напишите программу, которая заменяет все пробелы в строке на символы подчёркивания '_'."
   ]
  },
  {
   "cell_type": "code",
   "execution_count": 34,
   "metadata": {},
   "outputs": [
    {
     "name": "stdout",
     "output_type": "stream",
     "text": [
      "Lorem_ipsum_dolor_sit_amet\n"
     ]
    }
   ],
   "source": [
    "custom_string = 'Lorem ipsum dolor sit amet'\n",
    "print(custom_string.replace(' ', '_'))"
   ]
  },
  {
   "cell_type": "markdown",
   "metadata": {},
   "source": [
    "10. Дан список слов. Объедините их в одну строку, где слова разделены запятыми, используя метод `.join()`. "
   ]
  },
  {
   "cell_type": "code",
   "execution_count": 36,
   "metadata": {},
   "outputs": [
    {
     "name": "stdout",
     "output_type": "stream",
     "text": [
      "apple, banana, peach\n"
     ]
    }
   ],
   "source": [
    "custom_list = ['apple', 'banana', 'peach']\n",
    "print(', '.join(custom_list))"
   ]
  },
  {
   "cell_type": "markdown",
   "metadata": {},
   "source": [
    "11. Попросите пользователя ввести строку и найдите индекс первого вхождения буквы 'e'."
   ]
  },
  {
   "cell_type": "code",
   "execution_count": 38,
   "metadata": {},
   "outputs": [
    {
     "name": "stdout",
     "output_type": "stream",
     "text": [
      "Your string: Lorem ipsum dolor sit amet\n",
      "First 'e' index: 3\n"
     ]
    }
   ],
   "source": [
    "custom_string = input('Enter any string: ')\n",
    "print('Your string:', custom_string)\n",
    "print('First \\'e\\' index:', custom_string.find('e'))"
   ]
  },
  {
   "cell_type": "markdown",
   "metadata": {},
   "source": [
    "12. Создайте программу, которая принимает строку и выводит её в обратном порядке."
   ]
  },
  {
   "cell_type": "code",
   "execution_count": 39,
   "metadata": {},
   "outputs": [
    {
     "name": "stdout",
     "output_type": "stream",
     "text": [
      "Your string: Lorem ipsum dolor sit amet\n",
      "Reversed string: tema tis rolod muspi meroL\n"
     ]
    }
   ],
   "source": [
    "custom_string = input('Enter any string: ')\n",
    "print('Your string:', custom_string)\n",
    "print('Reversed string:', custom_string[::-1])"
   ]
  },
  {
   "cell_type": "markdown",
   "metadata": {},
   "source": [
    "13. Напишите код, который преобразует температуру из градусов Цельсия в Фаренгейты и наоборот, используя формулы конвертации."
   ]
  },
  {
   "cell_type": "code",
   "execution_count": 5,
   "metadata": {},
   "outputs": [
    {
     "name": "stdout",
     "output_type": "stream",
     "text": [
      "Celsius: 23\n",
      "Fahrenheit from Celsius: 73.4\n",
      "Celsius from Fahrenheit: 23.000000000000004\n"
     ]
    }
   ],
   "source": [
    "c_temp = 23\n",
    "f_temp = c_temp * (9 / 5) + 32\n",
    "new_c_temp = (f_temp - 32) * (5 / 9)\n",
    "print('Celsius:', c_temp)\n",
    "print('Fahrenheit from Celsius:', f_temp)\n",
    "print('Celsius from Fahrenheit:', new_c_temp)"
   ]
  },
  {
   "cell_type": "markdown",
   "metadata": {},
   "source": [
    "14. Запросите у пользователя строку и удалите из неё все цифры."
   ]
  },
  {
   "cell_type": "code",
   "execution_count": 8,
   "metadata": {},
   "outputs": [
    {
     "name": "stdout",
     "output_type": "stream",
     "text": [
      "Your string: P3lease7,1 remove digit25s fro09m this l7ine\n",
      "String with no digits: Please, remove digits from this line\n"
     ]
    }
   ],
   "source": [
    "custom_string = input('Enter any string: ')\n",
    "new_string = ''\n",
    "for char in custom_string:\n",
    "    if char not in '0123456789':\n",
    "        new_string += char\n",
    "print('Your string:', custom_string)\n",
    "print('String with no digits:', new_string)"
   ]
  },
  {
   "cell_type": "markdown",
   "metadata": {},
   "source": [
    "15. Напишите программу, которая спрашивает у пользователя строку и выводит только уникальные символы этой строки."
   ]
  },
  {
   "cell_type": "code",
   "execution_count": 9,
   "metadata": {},
   "outputs": [
    {
     "name": "stdout",
     "output_type": "stream",
     "text": [
      "Your string: Lorem ipsum dolor sit amet.\n",
      "Unique symbols: {' ', '.', 'i', 'p', 'a', 't', 'L', 'e', 'o', 'r', 'l', 's', 'd', 'u', 'm'}\n"
     ]
    }
   ],
   "source": [
    "custom_string = input('Enter any string: ')\n",
    "print('Your string:', custom_string)\n",
    "print('Unique symbols:', set(custom_string))"
   ]
  },
  {
   "cell_type": "markdown",
   "metadata": {},
   "source": [
    "16. Напишите функцию, которая принимает строку и возвращает её без повторяющихся символов."
   ]
  },
  {
   "cell_type": "code",
   "execution_count": 10,
   "metadata": {},
   "outputs": [
    {
     "name": "stdout",
     "output_type": "stream",
     "text": [
      "Your string: Lorem ipsum dolor sit amet.\n",
      "String with unique symbols: Lorem ipsudlta.\n"
     ]
    }
   ],
   "source": [
    "custom_string = input('Enter any string: ')\n",
    "result_string = ''\n",
    "unique_chars = set()\n",
    "for char in custom_string:\n",
    "    if char not in unique_chars:\n",
    "        unique_chars.add(char)\n",
    "        result_string +=char\n",
    "print('Your string:', custom_string)\n",
    "print('String with unique symbols:', result_string)"
   ]
  },
  {
   "cell_type": "markdown",
   "metadata": {},
   "source": [
    "### Итерируемые типы данных: list, dict, set"
   ]
  },
  {
   "cell_type": "markdown",
   "metadata": {},
   "source": [
    "#### Lists"
   ]
  },
  {
   "cell_type": "markdown",
   "metadata": {},
   "source": [
    "1. Создайте список из трёх элементов и выведите его содержимое."
   ]
  },
  {
   "cell_type": "code",
   "execution_count": 11,
   "metadata": {},
   "outputs": [
    {
     "name": "stdout",
     "output_type": "stream",
     "text": [
      "['apple', 'banana', 'peach']\n"
     ]
    }
   ],
   "source": [
    "my_list = ['apple', 'banana', 'peach']\n",
    "print(my_list)"
   ]
  },
  {
   "cell_type": "markdown",
   "metadata": {},
   "source": [
    "2. Дан список чисел. Найдите сумму всех элементов списка."
   ]
  },
  {
   "cell_type": "code",
   "execution_count": 19,
   "metadata": {},
   "outputs": [
    {
     "name": "stdout",
     "output_type": "stream",
     "text": [
      "List [2, 5, -10, 12] items sum: 9\n"
     ]
    }
   ],
   "source": [
    "my_list = [2, 5, -10, 12]\n",
    "list_sum = 0\n",
    "for item in my_list:\n",
    "    list_sum += item\n",
    "# или использовать sum(my_list), чтобы несоздавать цикл\n",
    "print(f'List {my_list} items sum:', list_sum)"
   ]
  },
  {
   "cell_type": "markdown",
   "metadata": {},
   "source": [
    "3. Напишите программу, которая добавляет число в конец списка, если его там ещё нет."
   ]
  },
  {
   "cell_type": "code",
   "execution_count": 16,
   "metadata": {},
   "outputs": [
    {
     "name": "stdout",
     "output_type": "stream",
     "text": [
      "[2, 5, -10, 12]\n"
     ]
    }
   ],
   "source": [
    "my_list = [2, 5, -10, 12]\n",
    "number_to_add = 5\n",
    "if number_to_add not in my_list:\n",
    "    my_list.append(number_to_add)\n",
    "print(my_list)"
   ]
  },
  {
   "cell_type": "markdown",
   "metadata": {},
   "source": [
    "4. Удалите последний элемент списка и выведите обновлённый список."
   ]
  },
  {
   "cell_type": "code",
   "execution_count": 17,
   "metadata": {},
   "outputs": [
    {
     "name": "stdout",
     "output_type": "stream",
     "text": [
      "Old list: ['apple', 'banana', 'peach']\n",
      "New list: ['apple', 'banana']\n"
     ]
    }
   ],
   "source": [
    "my_list = ['apple', 'banana', 'peach']\n",
    "print('Old list:', my_list)\n",
    "my_list.pop()\n",
    "print('New list:', my_list)"
   ]
  },
  {
   "cell_type": "markdown",
   "metadata": {},
   "source": [
    "5. Дан список строк. Найдите самую длинную строку в списке."
   ]
  },
  {
   "cell_type": "code",
   "execution_count": 20,
   "metadata": {},
   "outputs": [
    {
     "name": "stdout",
     "output_type": "stream",
     "text": [
      "The longest string: pineapple\n"
     ]
    }
   ],
   "source": [
    "my_list = ['apple', 'banana', 'peach', 'pineapple', 'pear']\n",
    "longest_string = ''\n",
    "for item in my_list:\n",
    "    if len(item) > len(longest_string):\n",
    "        longest_string = item\n",
    "print('The longest string:', longest_string)"
   ]
  },
  {
   "cell_type": "markdown",
   "metadata": {},
   "source": [
    "6. Создайте список чисел и найдите среднее арифметическое этих чисел."
   ]
  },
  {
   "cell_type": "code",
   "execution_count": 23,
   "metadata": {},
   "outputs": [
    {
     "name": "stdout",
     "output_type": "stream",
     "text": [
      "List [2, 15, 10, 12] mean: 9.75\n"
     ]
    }
   ],
   "source": [
    "my_list = [2, 15, 10, 12]\n",
    "list_sum = sum(my_list)\n",
    "list_mean = list_sum / len(my_list)\n",
    "print(f'List {my_list} mean:', list_mean)"
   ]
  },
  {
   "cell_type": "markdown",
   "metadata": {},
   "source": [
    "7. Дан список имён. Отсортируйте этот список в алфавитном порядке."
   ]
  },
  {
   "cell_type": "code",
   "execution_count": 26,
   "metadata": {},
   "outputs": [
    {
     "name": "stdout",
     "output_type": "stream",
     "text": [
      "['Archie', 'George', 'Harry', 'Noah', 'Olivia']\n"
     ]
    }
   ],
   "source": [
    "my_list = ['Olivia', 'Noah', 'George', 'Archie', 'Harry']\n",
    "my_list.sort()\n",
    "print(my_list)"
   ]
  },
  {
   "cell_type": "markdown",
   "metadata": {},
   "source": [
    "8. Напишите программу, которая объединяет два списка без дублирования элементов."
   ]
  },
  {
   "cell_type": "code",
   "execution_count": 27,
   "metadata": {},
   "outputs": [
    {
     "name": "stdout",
     "output_type": "stream",
     "text": [
      "[2, 4, 12, -3, 8, 3, 5, -45, 9]\n"
     ]
    }
   ],
   "source": [
    "list1 = [2, 4, 12, -3, 8]\n",
    "list2 = [3, 5, 8, -45, 9, -3]\n",
    "result_list = list1.copy()\n",
    "for item in list2:\n",
    "    if item not in list1:\n",
    "        result_list.append(item)\n",
    "# если до этого в списках дублировались значения, то они не будут убраны\n",
    "# при этом все элементы из второго списка, присутствующие в первом, не будут добавлены\n",
    "print(result_list)"
   ]
  },
  {
   "cell_type": "markdown",
   "metadata": {},
   "source": [
    "9. Создайте список чисел и найдите произведение всех чётных чисел в нём."
   ]
  },
  {
   "cell_type": "code",
   "execution_count": 29,
   "metadata": {},
   "outputs": [
    {
     "name": "stdout",
     "output_type": "stream",
     "text": [
      "48\n"
     ]
    }
   ],
   "source": [
    "my_list = [1, 2, 3, 4, 5, 6]\n",
    "res_mult = 1\n",
    "for item in my_list:\n",
    "    if item % 2 == 0:\n",
    "        res_mult *= item\n",
    "print(res_mult)"
   ]
  },
  {
   "cell_type": "markdown",
   "metadata": {},
   "source": [
    "10. Напишите код, который создаёт копию списка с помощью метода `.copy()`."
   ]
  },
  {
   "cell_type": "code",
   "execution_count": 35,
   "metadata": {},
   "outputs": [
    {
     "name": "stdout",
     "output_type": "stream",
     "text": [
      "Orig: ['apple', 'banana', 'peach']\n",
      "Copy: ['apple', 'banana', 'peach']\n"
     ]
    }
   ],
   "source": [
    "my_list = ['apple', 'banana', 'peach']\n",
    "my_list_copy = my_list.copy()\n",
    "print('Orig:', my_list)\n",
    "print('Copy:', my_list_copy)"
   ]
  },
  {
   "cell_type": "markdown",
   "metadata": {},
   "source": [
    "11. Дан список чисел. Найдите второе наибольшее число в списке."
   ]
  },
  {
   "cell_type": "code",
   "execution_count": 39,
   "metadata": {},
   "outputs": [
    {
     "name": "stdout",
     "output_type": "stream",
     "text": [
      "Second biggest number: 9\n"
     ]
    }
   ],
   "source": [
    "my_list = [2, 4, 12, -3, 8, 3, 5, -45, 9]\n",
    "second_biggest = sorted(my_list)[-2]\n",
    "# первое наибольшее число будет в конце отсортированного массива [-1]\n",
    "print('Second biggest number:', second_biggest)"
   ]
  },
  {
   "cell_type": "markdown",
   "metadata": {},
   "source": [
    "12. Создайте список чисел и найдите разницу между максимальным и минимальным значениями."
   ]
  },
  {
   "cell_type": "code",
   "execution_count": 44,
   "metadata": {},
   "outputs": [
    {
     "name": "stdout",
     "output_type": "stream",
     "text": [
      "Max-min difference: 17\n"
     ]
    }
   ],
   "source": [
    "my_list = [2, 4, 12, -3, 8, 3, 5, -5, 9]\n",
    "max_value = my_list[0]\n",
    "min_value = my_list[0]\n",
    "for item in my_list:\n",
    "    if item > max_value:\n",
    "        max_value = item\n",
    "    if item < min_value:\n",
    "        min_value = item\n",
    "# также можно получить, используя max(my_list) и min(my_list)\n",
    "print('Max-min difference:', max_value - min_value)"
   ]
  },
  {
   "cell_type": "markdown",
   "metadata": {},
   "source": [
    "13. Напишите программу, которая переворачивает список (последний элемент становится первым)."
   ]
  },
  {
   "cell_type": "code",
   "execution_count": 45,
   "metadata": {},
   "outputs": [
    {
     "name": "stdout",
     "output_type": "stream",
     "text": [
      "['peach', 'banana', 'apple']\n"
     ]
    }
   ],
   "source": [
    "my_list = ['apple', 'banana', 'peach']\n",
    "my_list.reverse()\n",
    "print(my_list)"
   ]
  },
  {
   "cell_type": "markdown",
   "metadata": {},
   "source": [
    "14. Дан список чисел. Удалите все чётные числа из списка."
   ]
  },
  {
   "cell_type": "code",
   "execution_count": 47,
   "metadata": {},
   "outputs": [
    {
     "name": "stdout",
     "output_type": "stream",
     "text": [
      "[-3, 3, 5, -5, 9]\n"
     ]
    }
   ],
   "source": [
    "my_list = [2, 4, 12, -3, 8, 3, 5, -5, 9]\n",
    "result_list = []\n",
    "for item in my_list:\n",
    "    if not (item % 2 == 0):\n",
    "        result_list.append(item)\n",
    "print(result_list)"
   ]
  },
  {
   "cell_type": "markdown",
   "metadata": {},
   "source": [
    "15. Создайте список чисел и найдите количество уникальных элементов в нём."
   ]
  },
  {
   "cell_type": "code",
   "execution_count": 49,
   "metadata": {},
   "outputs": [
    {
     "name": "stdout",
     "output_type": "stream",
     "text": [
      "Unique elements amount: 4\n"
     ]
    }
   ],
   "source": [
    "my_list = [2, 4, 12, -3, 8, -3, 2, 2, 9]\n",
    "unique_count = 0\n",
    "for item in my_list:\n",
    "    if my_list.count(item) == 1:\n",
    "        unique_count += 1\n",
    "# считаем элемент уникальным, если он встречается в списке всего 1 раз\n",
    "print('Unique elements amount:', unique_count)"
   ]
  },
  {
   "cell_type": "markdown",
   "metadata": {},
   "source": [
    "#### Dictionaries"
   ]
  },
  {
   "cell_type": "markdown",
   "metadata": {},
   "source": [
    "1. Создайте словарь с тремя парами ключ-значение и выведите его содержимое."
   ]
  },
  {
   "cell_type": "code",
   "execution_count": 50,
   "metadata": {},
   "outputs": [
    {
     "name": "stdout",
     "output_type": "stream",
     "text": [
      "{'key1': 'value1', 'key2': 2, 'key3': True}\n"
     ]
    }
   ],
   "source": [
    "my_dict = {\n",
    "    'key1': 'value1', \n",
    "    'key2': 2,\n",
    "    'key3': True\n",
    "    }\n",
    "print(my_dict)"
   ]
  },
  {
   "cell_type": "markdown",
   "metadata": {},
   "source": [
    "2. Дан словарь. Добавьте новую пару ключ-значение."
   ]
  },
  {
   "cell_type": "code",
   "execution_count": 51,
   "metadata": {},
   "outputs": [
    {
     "name": "stdout",
     "output_type": "stream",
     "text": [
      "Old: {'key1': 'value1', 'key2': 2, 'key3': True}\n",
      "New: {'key1': 'value1', 'key2': 2, 'key3': True, 'key4': ['V', 'a', 'l', 'u', 'e', '4']}\n"
     ]
    }
   ],
   "source": [
    "my_dict = {\n",
    "    'key1': 'value1', \n",
    "    'key2': 2,\n",
    "    'key3': True\n",
    "    }\n",
    "print('Old:', my_dict)\n",
    "my_dict['key4'] = list('Value4')\n",
    "print('New:', my_dict)"
   ]
  },
  {
   "cell_type": "markdown",
   "metadata": {},
   "source": [
    "3. Удалите элемент из словаря по ключу."
   ]
  },
  {
   "cell_type": "code",
   "execution_count": 52,
   "metadata": {},
   "outputs": [
    {
     "name": "stdout",
     "output_type": "stream",
     "text": [
      "Old: {'key1': 'value1', 'key2': 2, 'key3': True}\n",
      "New: {'key2': 2, 'key3': True}\n"
     ]
    }
   ],
   "source": [
    "my_dict = {\n",
    "    'key1': 'value1', \n",
    "    'key2': 2,\n",
    "    'key3': True\n",
    "    }\n",
    "print('Old:', my_dict)\n",
    "my_dict.pop('key1')\n",
    "print('New:', my_dict)"
   ]
  },
  {
   "cell_type": "markdown",
   "metadata": {},
   "source": [
    "4. Напишите программу, которая проверяет наличие ключа в словаре."
   ]
  },
  {
   "cell_type": "code",
   "execution_count": 60,
   "metadata": {},
   "outputs": [
    {
     "name": "stdout",
     "output_type": "stream",
     "text": [
      "'key1' in my_dict =True\n",
      "'abc' in my_dict =False\n"
     ]
    }
   ],
   "source": [
    "my_dict = {\n",
    "    'key1': 'value1', \n",
    "    'key2': 2,\n",
    "    'key3': True\n",
    "    }\n",
    "print(f\"{'key1' in my_dict =}\")\n",
    "print(f\"{'abc' in my_dict =}\")"
   ]
  },
  {
   "cell_type": "markdown",
   "metadata": {},
   "source": [
    "5. Дан словарь. Найдите сумму всех значений в словаре."
   ]
  },
  {
   "cell_type": "code",
   "execution_count": 63,
   "metadata": {},
   "outputs": [
    {
     "name": "stdout",
     "output_type": "stream",
     "text": [
      "20\n"
     ]
    }
   ],
   "source": [
    "my_dict = {'a': 5, 'b': 12, 'c': 3}\n",
    "print(sum(my_dict.values()))"
   ]
  },
  {
   "cell_type": "markdown",
   "metadata": {},
   "source": [
    "6. Создайте словарь и найдите ключ с максимальным значением."
   ]
  },
  {
   "cell_type": "code",
   "execution_count": 73,
   "metadata": {},
   "outputs": [
    {
     "name": "stdout",
     "output_type": "stream",
     "text": [
      "Key with max value: b\n"
     ]
    }
   ],
   "source": [
    "my_dict = {'a': 5, 'b': 12, 'c': 3}\n",
    "keys_list = list(my_dict.keys())\n",
    "values_list = list(my_dict.values())\n",
    "max_value_i = values_list.index(max(values_list))\n",
    "max_value_key = keys_list[max_value_i]\n",
    "# или max(my_dict, key = my_dict.get)\n",
    "print('Key with max value:', max_value_key)"
   ]
  },
  {
   "cell_type": "markdown",
   "metadata": {},
   "source": [
    "7. Напишите код, который меняет местами ключи и значения в словаре."
   ]
  },
  {
   "cell_type": "code",
   "execution_count": 75,
   "metadata": {},
   "outputs": [
    {
     "name": "stdout",
     "output_type": "stream",
     "text": [
      "Old: {'key1': 'value1', 'key2': 2, 'key3': True, 'key4': ['V', 'a', 'l', 'u', 'e', '4'], 'key5': 2}\n",
      "New: {'value1': 'key1', '2': 'key5', 'True': 'key3', \"['V', 'a', 'l', 'u', 'e', '4']\": 'key4'}\n"
     ]
    }
   ],
   "source": [
    "my_dict = {\n",
    "    'key1': 'value1', \n",
    "    'key2': 2,\n",
    "    'key3': True,\n",
    "    'key4': list('Value4'),\n",
    "    'key5': 2\n",
    "    }\n",
    "new_dict = dict()\n",
    "keys = my_dict.keys()\n",
    "for key in keys:\n",
    "    new_dict[str(my_dict[key])] = key\n",
    "# если одинаковое значение встречалось у нескольких ключей, то оно будет перезаписано\n",
    "print('Old:', my_dict)\n",
    "print('New:', new_dict)"
   ]
  },
  {
   "cell_type": "markdown",
   "metadata": {},
   "source": [
    "8. Дан словарь. Найдите среднее значение всех значений в словаре."
   ]
  },
  {
   "cell_type": "code",
   "execution_count": 78,
   "metadata": {},
   "outputs": [
    {
     "name": "stdout",
     "output_type": "stream",
     "text": [
      "Mean: 7.0\n"
     ]
    }
   ],
   "source": [
    "my_dict = {'a': 5, 'b': 12, 'c': 4}\n",
    "dict_mean = sum(my_dict.values()) / len(my_dict)\n",
    "print('Mean:', dict_mean)"
   ]
  },
  {
   "cell_type": "markdown",
   "metadata": {},
   "source": [
    "9. Создайте словарь и найдите ключ с минимальным значением."
   ]
  },
  {
   "cell_type": "code",
   "execution_count": 79,
   "metadata": {},
   "outputs": [
    {
     "name": "stdout",
     "output_type": "stream",
     "text": [
      "Key with min value: c\n"
     ]
    }
   ],
   "source": [
    "my_dict = {'a': 5, 'b': 12, 'c': 3}\n",
    "min_value_key = min(my_dict, key = my_dict.get)\n",
    "print('Key with min value:', min_value_key)"
   ]
  },
  {
   "cell_type": "markdown",
   "metadata": {},
   "source": [
    "10. Напишите программу, которая объединяет два словаря."
   ]
  },
  {
   "cell_type": "code",
   "execution_count": 85,
   "metadata": {},
   "outputs": [
    {
     "name": "stdout",
     "output_type": "stream",
     "text": [
      "First: {'a': 5, 'b': 12, 'c': 3}\n",
      "Second: {'b': 0, 'd': 2, 'e': -8}\n",
      "Result: {'a': 5, 'b': 0, 'c': 3, 'd': 2, 'e': -8}\n"
     ]
    }
   ],
   "source": [
    "dict1 = {'a': 5, 'b': 12, 'c': 3}\n",
    "dict2 = {'b': 0, 'd': 2, 'e': -8}\n",
    "res_dict = dict()\n",
    "res_dict.update(dict1)\n",
    "res_dict.update(dict2)\n",
    "print('First:', dict1)\n",
    "print('Second:', dict2)\n",
    "print('Result:', res_dict)"
   ]
  },
  {
   "cell_type": "markdown",
   "metadata": {},
   "source": [
    "11. Дан словарь. Удалите все элементы, значения которых равны None."
   ]
  },
  {
   "cell_type": "code",
   "execution_count": 91,
   "metadata": {},
   "outputs": [
    {
     "name": "stdout",
     "output_type": "stream",
     "text": [
      "With None: {'a': 5, 'b': None, 'c': 3, 'd': None}\n",
      "No None: {'a': 5, 'c': 3}\n"
     ]
    }
   ],
   "source": [
    "my_dict = {'a': 5, 'b': None, 'c': 3, 'd': None}\n",
    "print('With None:', my_dict)\n",
    "no_none_dict = dict()\n",
    "for key in my_dict:\n",
    "    if my_dict[key] is not None:\n",
    "        no_none_dict[key] = my_dict[key]\n",
    "print('No None:', no_none_dict)"
   ]
  },
  {
   "cell_type": "markdown",
   "metadata": {},
   "source": [
    "12. Создайте словарь и найдите количество уникальных значений."
   ]
  },
  {
   "cell_type": "code",
   "execution_count": 92,
   "metadata": {},
   "outputs": [
    {
     "name": "stdout",
     "output_type": "stream",
     "text": [
      "Unique elements amount: 3\n"
     ]
    }
   ],
   "source": [
    "my_dict = {'a': 5, 'b': 3, 'c': 3, 'd': 2, 'e': -8}\n",
    "values_list = list(my_dict.values())\n",
    "unique_count = 0\n",
    "for value in values_list:\n",
    "    if values_list.count(value) == 1:\n",
    "        unique_count += 1\n",
    "# считаем значение уникальным, если оно присутствует с ловаре всего 1 раз\n",
    "print('Unique elements amount:', unique_count)"
   ]
  },
  {
   "cell_type": "markdown",
   "metadata": {},
   "source": [
    "13. Напишите код, который создаёт словарь из двух списков, где один список содержит ключи, а другой — значения."
   ]
  },
  {
   "cell_type": "code",
   "execution_count": 93,
   "metadata": {},
   "outputs": [
    {
     "name": "stdout",
     "output_type": "stream",
     "text": [
      "{'key1': 'value1', 'key2': 2, 'key3': True}\n"
     ]
    }
   ],
   "source": [
    "keys_list = ['key1', 'key2', 'key3']\n",
    "values_list = ['value1', 2, True]\n",
    "new_dict = dict()\n",
    "for i, key in enumerate(keys_list):\n",
    "    new_dict[key] = values_list[i]\n",
    "# или через dict(zip(keys_list, values_list))\n",
    "print(new_dict)"
   ]
  },
  {
   "cell_type": "markdown",
   "metadata": {},
   "source": [
    "14. Дан словарь. Найдите все ключи, значения которых больше определённого числа."
   ]
  },
  {
   "cell_type": "code",
   "execution_count": 95,
   "metadata": {},
   "outputs": [
    {
     "name": "stdout",
     "output_type": "stream",
     "text": [
      "Keys with values higher then 4: a, b\n"
     ]
    }
   ],
   "source": [
    "my_dict = {'a': 5, 'b': 7, 'c': 3, 'd': 2, 'e': -8}\n",
    "value_to_compare = 4\n",
    "res_keys = list()\n",
    "for key, value in my_dict.items():\n",
    "    if value > value_to_compare:\n",
    "        res_keys.append(key)\n",
    "print(f'Keys with values higher then {value_to_compare}:', ', '.join(res_keys))"
   ]
  },
  {
   "cell_type": "markdown",
   "metadata": {},
   "source": [
    "15. Создайте словарь и найдите разницу между максимальным и минимальным значениями."
   ]
  },
  {
   "cell_type": "code",
   "execution_count": 96,
   "metadata": {},
   "outputs": [
    {
     "name": "stdout",
     "output_type": "stream",
     "text": [
      "Max-min difference: 15\n"
     ]
    }
   ],
   "source": [
    "my_dict = {'a': 5, 'b': 7, 'c': 3, 'd': 2, 'e': -8}\n",
    "max_value = max(my_dict.values())\n",
    "min_value = min(my_dict.values())\n",
    "print('Max-min difference:', max_value - min_value)"
   ]
  },
  {
   "cell_type": "markdown",
   "metadata": {},
   "source": [
    "#### Sets"
   ]
  },
  {
   "cell_type": "markdown",
   "metadata": {},
   "source": [
    "1. Создайте множество из трёх элементов и выведите его содержимое."
   ]
  },
  {
   "cell_type": "code",
   "execution_count": 1,
   "metadata": {},
   "outputs": [
    {
     "name": "stdout",
     "output_type": "stream",
     "text": [
      "{False, 1, 'a'}\n"
     ]
    }
   ],
   "source": [
    "my_set = set([1, 'a', False])\n",
    "print(my_set)"
   ]
  },
  {
   "cell_type": "markdown",
   "metadata": {},
   "source": [
    "2. Даны два множества. Найдите их пересечение."
   ]
  },
  {
   "cell_type": "code",
   "execution_count": 3,
   "metadata": {},
   "outputs": [
    {
     "name": "stdout",
     "output_type": "stream",
     "text": [
      "{'a', 'd', 'c', 'f', 'b'} & {'l', 'p', 'm', 'd', 'f'} = {'f', 'd'}\n"
     ]
    }
   ],
   "source": [
    "set1 = set('bcdaf')\n",
    "set2 = set('mpfld')\n",
    "intersect = set1 & set2\n",
    "print(f'{set1} & {set2} = {intersect}')"
   ]
  },
  {
   "cell_type": "markdown",
   "metadata": {},
   "source": [
    "3. Напишите программу, которая добавляет элемент во множество."
   ]
  },
  {
   "cell_type": "code",
   "execution_count": 5,
   "metadata": {},
   "outputs": [
    {
     "name": "stdout",
     "output_type": "stream",
     "text": [
      "{'a', 'b', 'd', 'c'}\n"
     ]
    }
   ],
   "source": [
    "my_set = set('abc')\n",
    "my_set.add('d')\n",
    "print(my_set)"
   ]
  },
  {
   "cell_type": "markdown",
   "metadata": {},
   "source": [
    "4. Удалите элемент из множества."
   ]
  },
  {
   "cell_type": "code",
   "execution_count": 6,
   "metadata": {},
   "outputs": [
    {
     "name": "stdout",
     "output_type": "stream",
     "text": [
      "{'b', 'd', 'c'}\n"
     ]
    }
   ],
   "source": [
    "my_set = set('abcd')\n",
    "my_set.remove('a')\n",
    "print(my_set)"
   ]
  },
  {
   "cell_type": "markdown",
   "metadata": {},
   "source": [
    "5. Даны два множества. Найдите их объединение."
   ]
  },
  {
   "cell_type": "code",
   "execution_count": 9,
   "metadata": {},
   "outputs": [
    {
     "name": "stdout",
     "output_type": "stream",
     "text": [
      "{'a', 'b', 'c'} | {'e', 'b', 'd', 'c'} = {'a', 'e', 'b', 'd', 'c'}\n"
     ]
    }
   ],
   "source": [
    "set1 = set('abc')\n",
    "set2 = set('dbce')\n",
    "union = set1 | set2\n",
    "print(f'{set1} | {set2} = {union}')"
   ]
  },
  {
   "cell_type": "markdown",
   "metadata": {},
   "source": [
    "6. Создайте множество и найдите количество элементов в нём."
   ]
  },
  {
   "cell_type": "code",
   "execution_count": 10,
   "metadata": {},
   "outputs": [
    {
     "name": "stdout",
     "output_type": "stream",
     "text": [
      "3\n"
     ]
    }
   ],
   "source": [
    "my_set = set(['apple', 'banana', 'peach'])\n",
    "print(len(my_set))"
   ]
  },
  {
   "cell_type": "markdown",
   "metadata": {},
   "source": [
    "7. Дано множество. Проверьте, содержит ли оно определённый элемент."
   ]
  },
  {
   "cell_type": "code",
   "execution_count": 12,
   "metadata": {},
   "outputs": [
    {
     "name": "stdout",
     "output_type": "stream",
     "text": [
      "'banana' in my_set =True\n",
      "'pineapple' in my_set =False\n"
     ]
    }
   ],
   "source": [
    "my_set = set(['apple', 'banana', 'peach'])\n",
    "print(f\"{'banana' in my_set =}\")\n",
    "print(f\"{'pineapple' in my_set =}\")"
   ]
  },
  {
   "cell_type": "markdown",
   "metadata": {},
   "source": [
    "8. Напишите код, который создаёт множество из списка, удаляя дубликаты."
   ]
  },
  {
   "cell_type": "code",
   "execution_count": 13,
   "metadata": {},
   "outputs": [
    {
     "name": "stdout",
     "output_type": "stream",
     "text": [
      "List: ['apple', 'banana', 'peach', 'apple', 'apple', 'pineapple', 'peach', 'banana']\n",
      "Set: {'pineapple', 'apple', 'peach', 'banana'}\n"
     ]
    }
   ],
   "source": [
    "my_list = ['apple', 'banana', 'peach', 'apple', 'apple', 'pineapple', 'peach', 'banana']\n",
    "my_set = set(my_list)\n",
    "print('List:', my_list)\n",
    "print('Set:', my_set)"
   ]
  },
  {
   "cell_type": "markdown",
   "metadata": {},
   "source": [
    "9. Даны два множества. Найдите их разность."
   ]
  },
  {
   "cell_type": "code",
   "execution_count": 15,
   "metadata": {},
   "outputs": [
    {
     "name": "stdout",
     "output_type": "stream",
     "text": [
      "{'a', 'e', 'd', 'c', 'g', 'f', 'b'} - {'e', 'f', 'b'} = {'a', 'g', 'd', 'c'}\n"
     ]
    }
   ],
   "source": [
    "set1 = set('abcdefg')\n",
    "set2 = set('bfe')\n",
    "diff = set1 - set2\n",
    "print(f'{set1} - {set2} = {diff}')"
   ]
  },
  {
   "cell_type": "markdown",
   "metadata": {},
   "source": [
    "10. Создайте множество и найдите максимальный элемент."
   ]
  },
  {
   "cell_type": "code",
   "execution_count": 18,
   "metadata": {},
   "outputs": [
    {
     "name": "stdout",
     "output_type": "stream",
     "text": [
      "Max item: 19\n"
     ]
    }
   ],
   "source": [
    "my_set = set([2, 5, -8, 12, -3, 19])\n",
    "print('Max item:', max(my_set))"
   ]
  },
  {
   "cell_type": "markdown",
   "metadata": {},
   "source": [
    "11. Дано множество. Найдите минимальный элемент."
   ]
  },
  {
   "cell_type": "code",
   "execution_count": 19,
   "metadata": {},
   "outputs": [
    {
     "name": "stdout",
     "output_type": "stream",
     "text": [
      "Min item: -8\n"
     ]
    }
   ],
   "source": [
    "my_set = set([2, 5, -8, 12, -3, 19])\n",
    "print('Min item:', min(my_set))"
   ]
  },
  {
   "cell_type": "markdown",
   "metadata": {},
   "source": [
    "12. Напишите программу, которая находит общие элементы между двумя множествами."
   ]
  },
  {
   "cell_type": "code",
   "execution_count": 20,
   "metadata": {},
   "outputs": [
    {
     "name": "stdout",
     "output_type": "stream",
     "text": [
      "{'a', 'd', 'c', 'f', 'b'} & {'l', 'p', 'm', 'd', 'f'} = {'f', 'd'}\n"
     ]
    }
   ],
   "source": [
    "set1 = set('bcdaf')\n",
    "set2 = set('mpfld')\n",
    "intersect = set1 & set2\n",
    "print(f'{set1} & {set2} = {intersect}')"
   ]
  },
  {
   "cell_type": "markdown",
   "metadata": {},
   "source": [
    "13. Создайте множество и найдите сумму всех элементов."
   ]
  },
  {
   "cell_type": "code",
   "execution_count": 21,
   "metadata": {},
   "outputs": [
    {
     "name": "stdout",
     "output_type": "stream",
     "text": [
      "Set sum: 27\n"
     ]
    }
   ],
   "source": [
    "my_set = set([2, 5, -8, 12, -3, 19])\n",
    "print('Set sum:', sum(my_set))"
   ]
  },
  {
   "cell_type": "markdown",
   "metadata": {},
   "source": [
    "14. Даны два множества. Найдите симметричную разность."
   ]
  },
  {
   "cell_type": "code",
   "execution_count": 24,
   "metadata": {},
   "outputs": [
    {
     "name": "stdout",
     "output_type": "stream",
     "text": [
      "{'a', 'f', 'b', 'd'} & {'f', 'm', 'l', 'd'} = {'a', 'l', 'm', 'b'}\n"
     ]
    }
   ],
   "source": [
    "set1 = set('abdf')\n",
    "set2 = set('mfld')\n",
    "simm_diff = set1 ^ set2\n",
    "print(f'{set1} & {set2} = {simm_diff}')"
   ]
  },
  {
   "cell_type": "markdown",
   "metadata": {},
   "source": [
    "15. Создайте множество и найдите произведение всех элементов."
   ]
  },
  {
   "cell_type": "code",
   "execution_count": 26,
   "metadata": {},
   "outputs": [
    {
     "name": "stdout",
     "output_type": "stream",
     "text": [
      "All items multiplication: -960\n"
     ]
    }
   ],
   "source": [
    "my_set = set([2, 5, -8, 12])\n",
    "res_mult = 1\n",
    "for item in my_set:\n",
    "    res_mult *= item\n",
    "print('All items multiplication:', res_mult)"
   ]
  },
  {
   "cell_type": "markdown",
   "metadata": {},
   "source": [
    "### Циклы for/while, условные конструкции"
   ]
  },
  {
   "cell_type": "markdown",
   "metadata": {},
   "source": [
    "1. Напишите программу, которая выводит числа от 1 до 10 с помощью цикла `for`."
   ]
  },
  {
   "cell_type": "code",
   "execution_count": null,
   "metadata": {},
   "outputs": [],
   "source": [
    "# ваш код тут"
   ]
  },
  {
   "cell_type": "markdown",
   "metadata": {},
   "source": [
    "2. Используя цикл `while`, попросите пользователя ввести положительное число."
   ]
  },
  {
   "cell_type": "code",
   "execution_count": null,
   "metadata": {},
   "outputs": [],
   "source": [
    "# ваш код тут"
   ]
  },
  {
   "cell_type": "markdown",
   "metadata": {},
   "source": [
    "3. Дан список чисел. Выведите только те, которые больше 5."
   ]
  },
  {
   "cell_type": "code",
   "execution_count": null,
   "metadata": {},
   "outputs": [],
   "source": [
    "# ваш код тут"
   ]
  },
  {
   "cell_type": "markdown",
   "metadata": {},
   "source": [
    "4. Напишите программу, которая считает сумму чисел от 1 до n, где n задаёт пользователь."
   ]
  },
  {
   "cell_type": "code",
   "execution_count": null,
   "metadata": {},
   "outputs": [],
   "source": [
    "# ваш код тут"
   ]
  },
  {
   "cell_type": "markdown",
   "metadata": {},
   "source": [
    "5. Создайте программу, которая выводит таблицу умножения для числа, указанного пользователем."
   ]
  },
  {
   "cell_type": "code",
   "execution_count": null,
   "metadata": {},
   "outputs": [],
   "source": [
    "# ваш код тут"
   ]
  },
  {
   "cell_type": "markdown",
   "metadata": {},
   "source": [
    "6. Напишите программу, которая находит все простые числа до заданного числа."
   ]
  },
  {
   "cell_type": "code",
   "execution_count": null,
   "metadata": {},
   "outputs": [],
   "source": [
    "# ваш код тут"
   ]
  },
  {
   "cell_type": "markdown",
   "metadata": {},
   "source": [
    "7. Дан список чисел. Найдите все чётные числа с помощью цикла `for`."
   ]
  },
  {
   "cell_type": "code",
   "execution_count": null,
   "metadata": {},
   "outputs": [],
   "source": [
    "# ваш код тут"
   ]
  },
  {
   "cell_type": "markdown",
   "metadata": {},
   "source": [
    "8. Напишите код, который выводит только те строки из списка, которые содержат букву 'a'."
   ]
  },
  {
   "cell_type": "code",
   "execution_count": null,
   "metadata": {},
   "outputs": [],
   "source": [
    "# ваш код тут"
   ]
  },
  {
   "cell_type": "markdown",
   "metadata": {},
   "source": [
    "9. Создайте программу, которая находит факториал числа, указанного пользователем."
   ]
  },
  {
   "cell_type": "code",
   "execution_count": null,
   "metadata": {},
   "outputs": [],
   "source": [
    "# ваш код тут"
   ]
  },
  {
   "cell_type": "markdown",
   "metadata": {},
   "source": [
    "10. Напишите программу, которая проверяет, является ли число палиндромом."
   ]
  },
  {
   "cell_type": "code",
   "execution_count": null,
   "metadata": {},
   "outputs": [],
   "source": [
    "# ваш код тут"
   ]
  },
  {
   "cell_type": "markdown",
   "metadata": {},
   "source": [
    "11. Дан список строк. Найдите все строки, длина которых больше 5."
   ]
  },
  {
   "cell_type": "code",
   "execution_count": null,
   "metadata": {},
   "outputs": [],
   "source": [
    "# ваш код тут"
   ]
  },
  {
   "cell_type": "markdown",
   "metadata": {},
   "source": [
    "12. Напишите код, который находит наибольшее число среди введённых пользователем."
   ]
  },
  {
   "cell_type": "code",
   "execution_count": null,
   "metadata": {},
   "outputs": [],
   "source": [
    "# ваш код тут"
   ]
  },
  {
   "cell_type": "markdown",
   "metadata": {},
   "source": [
    "13. Создайте программу, которая выводит числа Фибоначчи до заданного числа."
   ]
  },
  {
   "cell_type": "code",
   "execution_count": null,
   "metadata": {},
   "outputs": [],
   "source": [
    "# ваш код тут"
   ]
  },
  {
   "cell_type": "markdown",
   "metadata": {},
   "source": [
    "14. Напишите программу, которая находит наибольший общий делитель двух чисел."
   ]
  },
  {
   "cell_type": "code",
   "execution_count": null,
   "metadata": {},
   "outputs": [],
   "source": [
    "# ваш код тут"
   ]
  },
  {
   "cell_type": "markdown",
   "metadata": {},
   "source": [
    "15. Дан список чисел. Найдите все числа, которые делятся на 3 и 5 одновременно."
   ]
  },
  {
   "cell_type": "code",
   "execution_count": null,
   "metadata": {},
   "outputs": [],
   "source": [
    "# ваш код тут"
   ]
  },
  {
   "cell_type": "markdown",
   "metadata": {},
   "source": [
    "16. Напишите программу, которая выводит звёздный треугольник заданной высоты."
   ]
  },
  {
   "cell_type": "code",
   "execution_count": null,
   "metadata": {},
   "outputs": [],
   "source": [
    "# ваш код тут"
   ]
  },
  {
   "cell_type": "markdown",
   "metadata": {},
   "source": [
    "### Базовое применение функций"
   ]
  },
  {
   "cell_type": "markdown",
   "metadata": {},
   "source": [
    "1. Напишите функцию, которая складывает два числа и возвращает результат."
   ]
  },
  {
   "cell_type": "code",
   "execution_count": null,
   "metadata": {},
   "outputs": [],
   "source": [
    "# ваш код тут"
   ]
  },
  {
   "cell_type": "markdown",
   "metadata": {},
   "source": [
    "2. Создайте функцию, которая принимает список чисел и возвращает их сумму."
   ]
  },
  {
   "cell_type": "code",
   "execution_count": null,
   "metadata": {},
   "outputs": [],
   "source": [
    "# ваш код тут"
   ]
  },
  {
   "cell_type": "markdown",
   "metadata": {},
   "source": [
    "3. Напишите функцию, которая принимает строку и возвращает её в обратном порядке."
   ]
  },
  {
   "cell_type": "code",
   "execution_count": null,
   "metadata": {},
   "outputs": [],
   "source": [
    "# ваш код тут"
   ]
  },
  {
   "cell_type": "markdown",
   "metadata": {},
   "source": [
    "4. Создайте функцию, которая принимает список строк и возвращает только те, которые содержат букву 'a'."
   ]
  },
  {
   "cell_type": "code",
   "execution_count": null,
   "metadata": {},
   "outputs": [],
   "source": [
    "# ваш код тут"
   ]
  },
  {
   "cell_type": "markdown",
   "metadata": {},
   "source": [
    "5. Напишите функцию, которая принимает число и возвращает True, если оно простое, и False в противном случае."
   ]
  },
  {
   "cell_type": "code",
   "execution_count": null,
   "metadata": {},
   "outputs": [],
   "source": [
    "# ваш код тут"
   ]
  },
  {
   "cell_type": "markdown",
   "metadata": {},
   "source": [
    "6. Создайте функцию, которая принимает список чисел и возвращает новый список без дубликатов."
   ]
  },
  {
   "cell_type": "code",
   "execution_count": null,
   "metadata": {},
   "outputs": [],
   "source": [
    "# ваш код тут"
   ]
  },
  {
   "cell_type": "markdown",
   "metadata": {},
   "source": [
    "7. Напишите функцию, которая принимает строку и возвращает количество уникальных символов."
   ]
  },
  {
   "cell_type": "code",
   "execution_count": null,
   "metadata": {},
   "outputs": [],
   "source": [
    "# ваш код тут"
   ]
  },
  {
   "cell_type": "markdown",
   "metadata": {},
   "source": [
    "8. Создайте функцию, которая принимает два списка и возвращает их пересечение."
   ]
  },
  {
   "cell_type": "code",
   "execution_count": null,
   "metadata": {},
   "outputs": [],
   "source": [
    "# ваш код тут"
   ]
  },
  {
   "cell_type": "markdown",
   "metadata": {},
   "source": [
    "9. Напишите функцию, которая принимает строку и возвращает её без пробелов."
   ]
  },
  {
   "cell_type": "code",
   "execution_count": null,
   "metadata": {},
   "outputs": [],
   "source": [
    "# ваш код тут"
   ]
  },
  {
   "cell_type": "markdown",
   "metadata": {},
   "source": [
    "10. Создайте функцию, которая принимает список чисел и возвращает среднее значение."
   ]
  },
  {
   "cell_type": "code",
   "execution_count": null,
   "metadata": {},
   "outputs": [],
   "source": [
    "# ваш код тут"
   ]
  }
 ],
 "metadata": {
  "kernelspec": {
   "display_name": "Python 3",
   "language": "python",
   "name": "python3"
  },
  "language_info": {
   "codemirror_mode": {
    "name": "ipython",
    "version": 3
   },
   "file_extension": ".py",
   "mimetype": "text/x-python",
   "name": "python",
   "nbconvert_exporter": "python",
   "pygments_lexer": "ipython3",
   "version": "3.11.9"
  }
 },
 "nbformat": 4,
 "nbformat_minor": 2
}
